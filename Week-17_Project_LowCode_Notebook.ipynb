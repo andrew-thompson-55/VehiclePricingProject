{
  "cells": [
    {
      "cell_type": "markdown",
      "metadata": {},
      "source": [
        "## **Problem Statement**"
      ]
    },
    {
      "cell_type": "markdown",
      "metadata": {},
      "source": [
        "### **Business Context**"
      ]
    },
    {
      "cell_type": "markdown",
      "metadata": {},
      "source": [
        "An automobile dealership in Los Vegas specializes in selling luxury and non-luxury vehicles. They cater to diverse customer preferences with varying vehicle specifications, such as mileage, engine capacity, and seating capacity. However, the dealership faces significant challenges in maintaining consistency and efficiency across its pricing strategy due to reliance on manual processes and disconnected systems. Pricing evaluations are prone to errors, updates are delayed, and scaling operations are difficult as demand grows. These inefficiencies impact revenue and customer trust. Recognizing the need for a reliable and scalable solution, the dealership is seeking to implement a unified system that ensures seamless integration of data-driven pricing decisions, adaptability to changing market conditions, and operational efficiency."
      ]
    },
    {
      "cell_type": "markdown",
      "metadata": {},
      "source": [
        "### **Objective**"
      ]
    },
    {
      "cell_type": "markdown",
      "metadata": {},
      "source": [
        "The dealership has hired you as an MLOps Engineer to design and implement an MLOps pipeline that automates the pricing workflow. This pipeline will encompass data cleaning, preprocessing, transformation, model building, training, evaluation, and registration with CI/CD capabilities to ensure continuous integration and delivery. Your role is to overcome challenges such as integrating disparate data sources, maintaining consistent model performance, and enabling scalable, automated updates to meet evolving business needs. The expected outcomes are a robust, automated system that improves pricing accuracy, operational efficiency, and scalability, driving increased profitability and customer satisfaction."
      ]
    },
    {
      "cell_type": "markdown",
      "metadata": {},
      "source": [
        "### **Data Description**"
      ]
    },
    {
      "cell_type": "markdown",
      "metadata": {},
      "source": [
        "The dataset contains attributes of used cars sold in various locations. These attributes serve as key data points for CarOnSell's pricing model. The detailed attributes are:\n",
        "\n",
        "- **Segment:** Describes the category of the vehicle, indicating whether it is a luxury or non-luxury segment.\n",
        "\n",
        "- **Kilometers_Driven:** The total number of kilometers the vehicle has been driven.\n",
        "\n",
        "- **Mileage:** The fuel efficiency of the vehicle, measured in kilometers per liter (km/l).\n",
        "\n",
        "- **Engine:** The engine capacity of the vehicle, measured in cubic centimeters (cc). \n",
        "\n",
        "- **Power:** The power of the vehicle's engine, measured in brake horsepower (BHP). \n",
        "\n",
        "- **Seats:** The number of seats in the vehicle, can influence the vehicle's classification, usage, and pricing based on customer needs.\n",
        "\n",
        "- **Price:** The price of the vehicle, listed in lakhs (units of 100,000), represents the cost to the consumer for purchasing the vehicle."
      ]
    },
    {
      "cell_type": "markdown",
      "metadata": {},
      "source": [
        "## **Please read the instructions carefully before starting the project.**\n",
        "\n",
        "This is a commented Python Notebook file in which all the instructions and tasks to be performed are mentioned. \n",
        "* Blanks '_______' are provided in the notebook that \n",
        "needs to be filled with an appropriate code to get the correct result. With every '_______' blank, there is a comment that briefly describes what needs to be filled in the blank space. \n",
        "* Identify the task to be performed correctly, and only then proceed to write the required code.\n",
        "* Fill the code wherever required. Running incomplete code may throw error.\n",
        "* Please run the codes in a sequential manner from the beginning to avoid any unnecessary errors."
      ]
    },
    {
      "cell_type": "markdown",
      "metadata": {},
      "source": [
        "## **1. AzureML Environment Setup and Data Preparation**"
      ]
    },
    {
      "cell_type": "markdown",
      "metadata": {},
      "source": [
        "### **1.1 Connect to Azure Machine Learning Workspace**"
      ]
    },
    {
      "cell_type": "code",
      "execution_count": 3,
      "metadata": {
        "gather": {
          "logged": 1737786743692
        }
      },
      "outputs": [],
      "source": [
        "# Handle to the workspace\n",
        "from azure.ai.ml import MLClient\n",
        "\n",
        "# Authentication package\n",
        "from azure.identity import DefaultAzureCredential\n",
        "credential = DefaultAzureCredential()"
      ]
    },
    {
      "cell_type": "code",
      "execution_count": 1,
      "metadata": {},
      "outputs": [
        {
          "name": "stdout",
          "output_type": "stream",
          "text": [
            "Requirement already satisfied: python-dotenv in c:\\users\\b4mf7\\appdata\\local\\programs\\python\\python313\\lib\\site-packages (1.1.0)\n",
            "Requirement already satisfied: azure-identity in c:\\users\\b4mf7\\appdata\\local\\programs\\python\\python313\\lib\\site-packages (1.23.0)\n",
            "Requirement already satisfied: azure-core>=1.31.0 in c:\\users\\b4mf7\\appdata\\local\\programs\\python\\python313\\lib\\site-packages (from azure-identity) (1.34.0)\n",
            "Requirement already satisfied: cryptography>=2.5 in c:\\users\\b4mf7\\appdata\\local\\programs\\python\\python313\\lib\\site-packages (from azure-identity) (45.0.3)\n",
            "Requirement already satisfied: msal>=1.30.0 in c:\\users\\b4mf7\\appdata\\local\\programs\\python\\python313\\lib\\site-packages (from azure-identity) (1.32.3)\n",
            "Requirement already satisfied: msal-extensions>=1.2.0 in c:\\users\\b4mf7\\appdata\\local\\programs\\python\\python313\\lib\\site-packages (from azure-identity) (1.3.1)\n",
            "Requirement already satisfied: typing-extensions>=4.0.0 in c:\\users\\b4mf7\\appdata\\local\\programs\\python\\python313\\lib\\site-packages (from azure-identity) (4.13.2)\n",
            "Requirement already satisfied: requests>=2.21.0 in c:\\users\\b4mf7\\appdata\\local\\programs\\python\\python313\\lib\\site-packages (from azure-core>=1.31.0->azure-identity) (2.32.3)\n",
            "Requirement already satisfied: six>=1.11.0 in c:\\users\\b4mf7\\appdata\\roaming\\python\\python313\\site-packages (from azure-core>=1.31.0->azure-identity) (1.17.0)\n",
            "Requirement already satisfied: cffi>=1.14 in c:\\users\\b4mf7\\appdata\\local\\programs\\python\\python313\\lib\\site-packages (from cryptography>=2.5->azure-identity) (1.17.1)\n",
            "Requirement already satisfied: pycparser in c:\\users\\b4mf7\\appdata\\local\\programs\\python\\python313\\lib\\site-packages (from cffi>=1.14->cryptography>=2.5->azure-identity) (2.22)\n",
            "Requirement already satisfied: PyJWT<3,>=1.0.0 in c:\\users\\b4mf7\\appdata\\local\\programs\\python\\python313\\lib\\site-packages (from PyJWT[crypto]<3,>=1.0.0->msal>=1.30.0->azure-identity) (2.10.1)\n",
            "Requirement already satisfied: charset-normalizer<4,>=2 in c:\\users\\b4mf7\\appdata\\local\\programs\\python\\python313\\lib\\site-packages (from requests>=2.21.0->azure-core>=1.31.0->azure-identity) (3.4.2)\n",
            "Requirement already satisfied: idna<4,>=2.5 in c:\\users\\b4mf7\\appdata\\local\\programs\\python\\python313\\lib\\site-packages (from requests>=2.21.0->azure-core>=1.31.0->azure-identity) (3.10)\n",
            "Requirement already satisfied: urllib3<3,>=1.21.1 in c:\\users\\b4mf7\\appdata\\local\\programs\\python\\python313\\lib\\site-packages (from requests>=2.21.0->azure-core>=1.31.0->azure-identity) (2.4.0)\n",
            "Requirement already satisfied: certifi>=2017.4.17 in c:\\users\\b4mf7\\appdata\\local\\programs\\python\\python313\\lib\\site-packages (from requests>=2.21.0->azure-core>=1.31.0->azure-identity) (2025.4.26)\n",
            "Note: you may need to restart the kernel to use updated packages.\n"
          ]
        }
      ],
      "source": [
        "%pip install python-dotenv azure-identity"
      ]
    },
    {
      "cell_type": "code",
      "execution_count": 4,
      "metadata": {},
      "outputs": [
        {
          "ename": "ModuleNotFoundError",
          "evalue": "No module named 'azure.mgmt.resource'",
          "output_type": "error",
          "traceback": [
            "\u001b[31m---------------------------------------------------------------------------\u001b[39m",
            "\u001b[31mModuleNotFoundError\u001b[39m                       Traceback (most recent call last)",
            "\u001b[36mCell\u001b[39m\u001b[36m \u001b[39m\u001b[32mIn[4]\u001b[39m\u001b[32m, line 4\u001b[39m\n\u001b[32m      2\u001b[39m \u001b[38;5;28;01mfrom\u001b[39;00m\u001b[38;5;250m \u001b[39m\u001b[34;01mdotenv\u001b[39;00m\u001b[38;5;250m \u001b[39m\u001b[38;5;28;01mimport\u001b[39;00m load_dotenv\n\u001b[32m      3\u001b[39m \u001b[38;5;28;01mfrom\u001b[39;00m\u001b[38;5;250m \u001b[39m\u001b[34;01mazure\u001b[39;00m\u001b[34;01m.\u001b[39;00m\u001b[34;01midentity\u001b[39;00m\u001b[38;5;250m \u001b[39m\u001b[38;5;28;01mimport\u001b[39;00m DefaultAzureCredential\n\u001b[32m----> \u001b[39m\u001b[32m4\u001b[39m \u001b[38;5;28;01mfrom\u001b[39;00m\u001b[38;5;250m \u001b[39m\u001b[34;01mazure\u001b[39;00m\u001b[34;01m.\u001b[39;00m\u001b[34;01mmgmt\u001b[39;00m\u001b[34;01m.\u001b[39;00m\u001b[34;01mresource\u001b[39;00m\u001b[38;5;250m \u001b[39m\u001b[38;5;28;01mimport\u001b[39;00m ResourceManagementClient\n\u001b[32m      6\u001b[39m \u001b[38;5;66;03m# Load environment variables from .env file\u001b[39;00m\n\u001b[32m      7\u001b[39m load_dotenv()\n",
            "\u001b[31mModuleNotFoundError\u001b[39m: No module named 'azure.mgmt.resource'"
          ]
        }
      ],
      "source": [
        "import os\n",
        "from dotenv import load_dotenv\n",
        "from azure.identity import DefaultAzureCredential\n",
        "from azure.mgmt.resource import ResourceManagementClient\n",
        "\n",
        "# Load environment variables from .env file\n",
        "load_dotenv()\n",
        "\n",
        "# `DefaultAzureCredential` will automatically pick up the AZURE_CLIENT_ID,\n",
        "# AZURE_TENANT_ID, and AZURE_CLIENT_SECRET environment variables.\n",
        "credential = DefaultAzureCredential()\n",
        "\n",
        "# You can now use this credential to authenticate with any Azure service client.\n",
        "# For example, let's list the resource groups in your subscription.\n",
        "\n",
        "# Get the subscription ID from the environment variables\n",
        "subscription_id = os.getenv(\"AZURE_SUBSCRIPTION_ID\")\n",
        "\n",
        "if not subscription_id:\n",
        "    raise ValueError(\"AZURE_SUBSCRIPTION_ID not set in .env file\")\n",
        "\n",
        "# Create a client to interact with Azure resources\n",
        "resource_client = ResourceManagementClient(credential, subscription_id)\n",
        "\n",
        "# List resource groups\n",
        "print(f\"Resource groups in subscription {subscription_id}:\")\n",
        "for group in resource_client.resource_groups.list():\n",
        "    print(f\"- {group.name}\")"
      ]
    },
    {
      "cell_type": "code",
      "execution_count": null,
      "metadata": {
        "gather": {
          "logged": 1737786744030
        }
      },
      "outputs": [],
      "source": [
        "# Get a handle to the workspace\n",
        "ml_client = MLClient(\n",
        "    credential=credential,\n",
        "    subscription_id=os.getenv(\"SUBSCRIPTION_ID\"),\n",
        "    resource_group_name=os.getenv(\"AZURE_RESOURCE_GROUP\"),\n",
        "    workspace_name=os.getenv(\"AZURE_WORKSPACE\"),\n",
        ")"
      ]
    },
    {
      "cell_type": "markdown",
      "metadata": {},
      "source": [
        "### **1.2 Set Up Compute Cluster**"
      ]
    },
    {
      "cell_type": "code",
      "execution_count": 3,
      "metadata": {
        "gather": {
          "logged": 1737786744266
        }
      },
      "outputs": [
        {
          "name": "stdout",
          "output_type": "stream",
          "text": [
            "You already have a cluster named cpu-cluster, we'll reuse it as is.\n",
            "AMLCompute with name cpu-cluster is created, the compute size is Standard_DS11_v2\n"
          ]
        }
      ],
      "source": [
        "from azure.ai.ml.entities import AmlCompute\n",
        "\n",
        "# Name assigned to the compute cluster\n",
        "cpu_compute_target = \"cpu-cluster\"\n",
        "\n",
        "try:\n",
        "    # let's see if the compute target already exists\n",
        "    cpu_cluster = ml_client.compute.get(cpu_compute_target)\n",
        "    print(\n",
        "        f\"You already have a cluster named {cpu_compute_target}, we'll reuse it as is.\"\n",
        "    )\n",
        "\n",
        "except Exception:\n",
        "    print(\"Creating a new cpu compute target...\")\n",
        "\n",
        "    # Let's create the Azure ML compute object with the intended parameters\n",
        "    cpu_cluster = AmlCompute(\n",
        "        name=cpu_compute_target,\n",
        "        # Azure ML Compute is the on-demand VM service\n",
        "        type=\"amlcompute\",\n",
        "        # VM Family\n",
        "        size=\"Standard_DS11_v2\",\n",
        "        # Minimum running nodes when there is no job running\n",
        "        min_instances=0,\n",
        "        # Nodes in cluster\n",
        "        max_instances=1,\n",
        "        # How many seconds will the node running after the job termination\n",
        "        idle_time_before_scale_down=180,\n",
        "        # Dedicated or LowPriority. The latter is cheaper but there is a chance of job termination\n",
        "        tier=\"Dedicated\",\n",
        "    )\n",
        "\n",
        "    # Now, we pass the object to MLClient's create_or_update method\n",
        "    cpu_cluster = ml_client.compute.begin_create_or_update(cpu_cluster).result()\n",
        "\n",
        "print(\n",
        "    f\"AMLCompute with name {cpu_cluster.name} is created, the compute size is {cpu_cluster.size}\"\n",
        ")"
      ]
    },
    {
      "cell_type": "markdown",
      "metadata": {},
      "source": [
        "### **1.3 Register Dataset as Data Asset**"
      ]
    },
    {
      "cell_type": "code",
      "execution_count": 4,
      "metadata": {
        "gather": {
          "logged": 1737786744520
        }
      },
      "outputs": [],
      "source": [
        "from azure.ai.ml.entities import Data\n",
        "from azure.ai.ml.constants import AssetTypes\n",
        "\n",
        "# Path to the local dataset\n",
        "local_data_path = 'used_cars.csv'\n",
        "\n",
        "# Create and register the dataset as an AzureML data asset\n",
        "data_asset = Data(\n",
        "    path=local_data_path,\n",
        "    type=AssetTypes.URI_FILE, \n",
        "    description=\"A dataset of used cars for price prediction\",\n",
        "    name=\"used-cars-data\"\n",
        ")"
      ]
    },
    {
      "cell_type": "code",
      "execution_count": 5,
      "metadata": {
        "gather": {
          "logged": 1737786746901
        }
      },
      "outputs": [
        {
          "data": {
            "text/plain": [
              "Data({'path': 'azureml://subscriptions/6490c64b-602a-4887-b258-36064f4cb8d4/resourcegroups/default_resourse_group/workspaces/demo_workspace/datastores/workspaceblobstore/paths/LocalUpload/2be82e6311791c3eb0847ecab5279e37/used_cars.csv', 'skip_validation': False, 'mltable_schema_url': None, 'referenced_uris': None, 'type': 'uri_file', 'is_anonymous': False, 'auto_increment_version': False, 'auto_delete_setting': None, 'name': 'used-cars-data', 'description': 'A dataset of used cars for price prediction', 'tags': {}, 'properties': {}, 'print_as_yaml': False, 'id': '/subscriptions/6490c64b-602a-4887-b258-36064f4cb8d4/resourceGroups/default_resourse_group/providers/Microsoft.MachineLearningServices/workspaces/demo_workspace/data/used-cars-data/versions/8', 'Resource__source_path': '', 'base_path': '/mnt/batch/tasks/shared/LS_root/mounts/clusters/c002/code/Users/TESTP3XHV8C5OT_1734342789061', 'creation_context': <azure.ai.ml.entities._system_data.SystemData object at 0x7fc05c4dd840>, 'serialize': <msrest.serialization.Serializer object at 0x7fc05c4dd3c0>, 'version': '8', 'latest_version': None, 'datastore': None})"
            ]
          },
          "execution_count": 5,
          "metadata": {},
          "output_type": "execute_result"
        }
      ],
      "source": [
        "ml_client.data.create_or_update(data_asset)"
      ]
    },
    {
      "cell_type": "markdown",
      "metadata": {},
      "source": [
        "### **1.4 Create and Configure Job Environment**"
      ]
    },
    {
      "cell_type": "code",
      "execution_count": 6,
      "metadata": {
        "gather": {
          "logged": 1737786747071
        }
      },
      "outputs": [],
      "source": [
        "# Create a directory for the preprocessing script\n",
        "import os\n",
        "\n",
        "src_dir_env = \"./env\"\n",
        "os.makedirs(src_dir_env, exist_ok=True)"
      ]
    },
    {
      "cell_type": "code",
      "execution_count": 7,
      "metadata": {},
      "outputs": [
        {
          "name": "stdout",
          "output_type": "stream",
          "text": [
            "Overwriting ./env/conda.yml\n"
          ]
        }
      ],
      "source": [
        "%%writefile {src_dir_env}/conda.yml\n",
        "name: sklearn-env\n",
        "channels:\n",
        "  - conda-forge\n",
        "dependencies:\n",
        "  - python=3.8\n",
        "  - pip=21.2.4\n",
        "  - scikit-learn=0.23.2\n",
        "  - scipy=1.7.1\n",
        "  - pip:  \n",
        "    - mlflow==2.8.1\n",
        "    - azureml-mlflow==1.51.0\n",
        "    - azureml-inference-server-http\n",
        "    - azureml-core==1.49.0\n",
        "    - cloudpickle==1.6.0"
      ]
    },
    {
      "cell_type": "code",
      "execution_count": 8,
      "metadata": {
        "gather": {
          "logged": 1737786749081
        }
      },
      "outputs": [
        {
          "data": {
            "text/plain": [
              "Environment({'arm_type': 'environment_version', 'latest_version': None, 'image': 'mcr.microsoft.com/azureml/openmpi4.1.0-ubuntu20.04', 'intellectual_property': None, 'is_anonymous': False, 'auto_increment_version': False, 'auto_delete_setting': None, 'name': 'machine_learning_E2E', 'description': 'Environment created from a Docker image plus Conda environment.', 'tags': {}, 'properties': {'azureml.labels': 'latest'}, 'print_as_yaml': False, 'id': '/subscriptions/6490c64b-602a-4887-b258-36064f4cb8d4/resourceGroups/default_resourse_group/providers/Microsoft.MachineLearningServices/workspaces/demo_workspace/environments/machine_learning_E2E/versions/6', 'Resource__source_path': '', 'base_path': '/mnt/batch/tasks/shared/LS_root/mounts/clusters/c002/code/Users/TESTP3XHV8C5OT_1734342789061', 'creation_context': <azure.ai.ml.entities._system_data.SystemData object at 0x7fc05c4c57e0>, 'serialize': <msrest.serialization.Serializer object at 0x7fc05c4c4e80>, 'version': '6', 'conda_file': {'channels': ['conda-forge'], 'dependencies': ['python=3.8', 'pip=21.2.4', 'scikit-learn=0.23.2', 'scipy=1.7.1', {'pip': ['mlflow==2.8.1', 'azureml-mlflow==1.51.0', 'azureml-inference-server-http', 'azureml-core==1.49.0', 'cloudpickle==1.6.0']}], 'name': 'sklearn-env'}, 'build': None, 'inference_config': None, 'os_type': 'Linux', 'conda_file_path': None, 'path': None, 'datastore': None, 'upload_hash': None, 'translated_conda_file': '{\\n  \"channels\": [\\n    \"conda-forge\"\\n  ],\\n  \"dependencies\": [\\n    \"python=3.8\",\\n    \"pip=21.2.4\",\\n    \"scikit-learn=0.23.2\",\\n    \"scipy=1.7.1\",\\n    {\\n      \"pip\": [\\n        \"mlflow==2.8.1\",\\n        \"azureml-mlflow==1.51.0\",\\n        \"azureml-inference-server-http\",\\n        \"azureml-core==1.49.0\",\\n        \"cloudpickle==1.6.0\"\\n      ]\\n    }\\n  ],\\n  \"name\": \"sklearn-env\"\\n}'})"
            ]
          },
          "execution_count": 8,
          "metadata": {},
          "output_type": "execute_result"
        }
      ],
      "source": [
        "from azure.ai.ml.entities import Environment, BuildContext\n",
        "\n",
        "env_docker_conda = Environment(\n",
        "    image=\"mcr.microsoft.com/azureml/openmpi4.1.0-ubuntu20.04\",\n",
        "    conda_file=\"env/conda.yml\",\n",
        "    name=\"machine_learning_E2E\",\n",
        "    description=\"Environment created from a Docker image plus Conda environment.\",\n",
        ")\n",
        "ml_client.environments.create_or_update(env_docker_conda)"
      ]
    },
    {
      "cell_type": "markdown",
      "metadata": {},
      "source": [
        "## **2. Model Development Workflow**"
      ]
    },
    {
      "cell_type": "markdown",
      "metadata": {},
      "source": [
        "### **2.1 Data Preparation**"
      ]
    },
    {
      "cell_type": "markdown",
      "metadata": {
        "nteract": {
          "transient": {
            "deleting": false
          }
        }
      },
      "source": [
        "This **Data Preparation job** is designed to process an input dataset by splitting it into two parts: one for training the model and the other for testing it. The script accepts three inputs: the location of the input data (`used_cars.csv`), the ratio for splitting the data into training and testing sets (`test_train_ratio`), and the paths to save the resulting training (`train_data`) and testing (`test_data`) data. The script first reads the input CSV data from a data asset URI, then splits it using Scikit-learn's train_test_split function, and saves the two parts to the specified directories. It also logs the number of records in both the training and testing datasets using MLflow."
      ]
    },
    {
      "cell_type": "code",
      "execution_count": 9,
      "metadata": {
        "gather": {
          "logged": 1737786749532
        }
      },
      "outputs": [],
      "source": [
        "# Create a directory for the preprocessing script\n",
        "import os\n",
        "\n",
        "src_dir_job_scripts = \"./data_prep\"\n",
        "os.makedirs(src_dir_job_scripts, exist_ok=True)"
      ]
    },
    {
      "cell_type": "code",
      "execution_count": 10,
      "metadata": {},
      "outputs": [
        {
          "name": "stdout",
          "output_type": "stream",
          "text": [
            "Overwriting ./data_prep/data_prep.py\n"
          ]
        }
      ],
      "source": [
        "%%writefile {src_dir_job_scripts}/data_prep.py\n",
        "\n",
        "import os\n",
        "import argparse\n",
        "import logging\n",
        "import mlflow\n",
        "import pandas as pd\n",
        "from sklearn.preprocessing import LabelEncoder\n",
        "from sklearn.model_selection import train_test_split\n",
        "\n",
        "def main():\n",
        "    parser = argparse.ArgumentParser()\n",
        "    parser.add_argument(\"--data\", type=str, help=\"Path to input data\")\n",
        "    parser.add_argument(\"--test_train_ratio\", type=float, default=0.2)\n",
        "    parser.add_argument(\"--train_data\", type=str, help=\"Path to save train data\")\n",
        "    parser.add_argument(\"--test_data\", type=str, help=\"Path to save test data\")\n",
        "    args = parser.parse_args()\n",
        "\n",
        "    # Start MLflow Run\n",
        "    mlflow.start_run()\n",
        "\n",
        "    # Log arguments\n",
        "    logging.info(f\"Input data path: {args.data}\")\n",
        "    logging.info(f\"Test-train ratio: {args.test_train_ratio}\")\n",
        "\n",
        "    # Reading Data\n",
        "    df = pd.read_csv(args.raw_data)\n",
        "\n",
        "    # Encode categorical feature\n",
        "    le = LabelEncoder()\n",
        "    df['_______'] = le.fit_transform(df['_______'])  # Write code to encode the categorical feature\n",
        "\n",
        "    # Split Data into train and test datasets\n",
        "    train_df, test_df = train_test_split(df, test_size=args.________, random_state=42)  #  Write code to split the data into train and test datasets\n",
        "\n",
        "    # Save train and test data\n",
        "    os.makedirs(args.________, exist_ok=True)  # Create directories for train_data and test_data\n",
        "    os.makedirs(args.________, exist_ok=True)  # Create directories for train_data and test_data\n",
        "    train_df.to_csv(os.path.join(args.train_data, \"________.csv\"), index=False)  # Specify the name of the train data file\n",
        "    test_df.to_csv(os.path.join(args.test_data, \"________.csv\"), index=False)  # Specify the name of the test data file\n",
        "\n",
        "    # log the metrics\n",
        "    mlflow.log_metric('train size', train_df.shape[__])  # Log the train dataset size\n",
        "    mlflow.log_metric('test size', test_df.shape[__])  # Log the test dataset size\n",
        "    \n",
        "    mlflow.end_run()\n",
        "\n",
        "if __name__ == \"__main__\":\n",
        "    main()"
      ]
    },
    {
      "cell_type": "markdown",
      "metadata": {},
      "source": [
        "#### **Define Data Preparation job**"
      ]
    },
    {
      "cell_type": "markdown",
      "metadata": {},
      "source": [
        "For this AzureML job, we define the `command` object that takes input files and output directories, then executes the script with the provided inputs and outputs. The job runs in a pre-configured AzureML environment with the necessary libraries. The result will be two separate datasets for training and testing, ready for use in subsequent steps of the machine learning pipeline."
      ]
    },
    {
      "cell_type": "code",
      "execution_count": null,
      "metadata": {},
      "outputs": [],
      "source": [
        "from azure.ai.ml import command, Input, Output\n",
        "\n",
        "step_process = command(\n",
        "    name=\"data_preparation\",  # Specify the name of the job\n",
        "    display_name=\"__________________\",  # Provide a display name for the job\n",
        "    description=\"_______________________\",  # Provide a description of the job\n",
        "    inputs={ \n",
        "        \"data\": Input(type=\"________\"),  # Specify input type for data (e.g., file URI)\n",
        "        \"test_train_ratio\": Input(type=\"__________\"),  # Specify input type for the test/train ratio (float)\n",
        "    },\n",
        "    outputs={  \n",
        "        \"train_data\": Output(type=\"________\", mode=\"rw_mount\"),  # Specify output type for train data (e.g., folder URI)\n",
        "        \"test_data\": Output(type=\"_______\", mode=\"rw_mount\"),  # Specify output type for test data (e.g., folder URI)\n",
        "    },\n",
        "    code=\"./data_prep\",  # Path to the data preparation script\n",
        "    command=\"\"\"python ________ \n",
        "            --data ${{inputs.data}} \\  \n",
        "            --test_train_ratio ${{inputs.test_train_ratio}} \\  \n",
        "            --train_data ${{outputs.train_data}} \\  \n",
        "            --test_data ${{outputs.________}}\"\"\",  # Specify the output for test data\n",
        "    environment=\"AzureML-sklearn-1.0-ubuntu20.04-py38-cpu@latest\",  # Provide the environment name for execution\n",
        ")\n"
      ]
    },
    {
      "cell_type": "markdown",
      "metadata": {},
      "source": [
        "### **2.2 Training the Model**"
      ]
    },
    {
      "cell_type": "markdown",
      "metadata": {
        "nteract": {
          "transient": {
            "deleting": false
          }
        }
      },
      "source": [
        "This Model Training job is designed to train a **Random Forest Regressor** on the dataset that was split into training and testing sets in the previous data preparation job. This job script accepts five inputs: the path to the training data (`train_data`), the path to the testing data (`test_data`), the number of trees in the forest (`n_estimators`, with a default value of 100), the maximum depth of the trees (`max_depth`, which is set to None by default), and the path to save the trained model (`model_output`).\n",
        "\n",
        "The script begins by reading the training and testing data files, then processes the data to separate features (X) and target labels (y). A Random Forest Regressor model is initialized using the given n_estimators and max_depth, and it is trained using the training data. The model's performance is evaluated using the `Mean Squared Error (MSE)`. The MSE score is logged in MLflow. Finally, the trained model is saved and stored in the specified output location as an MLflow model. The job completes by logging the final MSE score and ending the MLflow run.\n"
      ]
    },
    {
      "cell_type": "code",
      "execution_count": 12,
      "metadata": {
        "gather": {
          "logged": 1737786750405
        }
      },
      "outputs": [],
      "source": [
        "# Create a directory for the preprocessing script\n",
        "import os\n",
        "\n",
        "src_dir_job_scripts = \"./model_train\"\n",
        "os.makedirs(src_dir_job_scripts, exist_ok=True)"
      ]
    },
    {
      "cell_type": "code",
      "execution_count": 13,
      "metadata": {
        "gather": {
          "logged": 1736950263028
        }
      },
      "outputs": [
        {
          "name": "stdout",
          "output_type": "stream",
          "text": [
            "Overwriting ./model_train/model_train.py\n"
          ]
        }
      ],
      "source": [
        "%%writefile {src_dir_job_scripts}/model_train.py\n",
        "\n",
        "# Required imports for training\n",
        "import mlflow\n",
        "import argparse\n",
        "import os\n",
        "import pandas as pd\n",
        "from sklearn.model_selection import train_test_split\n",
        "from sklearn.ensemble import RandomForestRegressor\n",
        "from sklearn.metrics import mean_squared_error\n",
        "\n",
        "mlflow.start_run()  # Start the MLflow experiment run\n",
        "\n",
        "os.makedirs(\"./outputs\", exist_ok=True)  # Create the \"outputs\" directory if it doesn't exist\n",
        "\n",
        "def select_first_file(path):\n",
        "    \"\"\"Selects the first file in a folder, assuming there's only one file.\n",
        "    Args:\n",
        "        path (str): Path to the directory or file to choose.\n",
        "    Returns:\n",
        "        str: Full path of the selected file.\n",
        "    \"\"\"\n",
        "    files = os.listdir(path)\n",
        "    return os.path.join(path, files[0])\n",
        "\n",
        "def main():\n",
        "    parser = argparse.ArgumentParser(\"train\")\n",
        "    parser.add_argument(\"--train_data\", type=str, help=\"Path to train dataset\")\n",
        "    parser.add_argument(\"--test_data\", type=str, help=\"Path to test dataset\")\n",
        "    parser.add_argument(\"--model_output\", type=str, help=\"Path of output model\")\n",
        "    parser.add_argument('--n_estimators', type=int, default=100,\n",
        "                        help='The number of trees in the forest')\n",
        "    parser.add_argument('--max_depth', type=int, default=None,\n",
        "                        help='The maximum depth of the tree. If None, then nodes are expanded until all leaves are pure or until all leaves contain less than min_samples_split samples.')\n",
        "\n",
        "    args = parser.parse_args()\n",
        "\n",
        "    # Load datasets\n",
        "    train_df = pd.read_csv(select_first_file(args.train_data))\n",
        "    test_df = pd.read_csv(select_first_file(args.test_data))\n",
        "\n",
        "    # Split the data into ______(X) and ______(y) \n",
        "    y_train = train_df['______']  # Specify the target column\n",
        "    X_train = train_df.drop(columns=['______'])\n",
        "    y_test = test_df['______']\n",
        "    X_test = test_df.drop(columns=['______'])\n",
        "\n",
        "    # Initialize and train a RandomForest Regressor\n",
        "    model = RandomForestRegressor(n_estimators=args.n_estimators, max_depth=args.______, random_state=42)  # Provide the arguments for RandomForestRegressor\n",
        "    model.________(X_train, y_train)  # Train the model\n",
        "\n",
        "    # Log model hyperparameters\n",
        "    mlflow.log_param(\"model\", \"_________\")  # Provide the model name\n",
        "    mlflow.log_param(\"n_estimators\", args.n_estimators)\n",
        "    mlflow.log_param(\"max_depth\", args.______)\n",
        "\n",
        "    # Predict using the RandomForest Regressor on test data\n",
        "    yhat_test = model._______(X_test)  # Predict the test data\n",
        "\n",
        "    # Compute and log mean squared error for test data\n",
        "    mse = mean_squared_error(y_test, yhat_test)\n",
        "    print('Mean Squared Error of RandomForest Regressor on test set: {:.2f}'.format(mse))\n",
        "    mlflow.log_metric(\"MSE\", float(mse))  # Log the MSE\n",
        "\n",
        "    # Save the model\n",
        "    mlflow.sklearn.________(sk_model=model, path=args.model_output)  # Save the model\n",
        "\n",
        "    mlflow.end_run()  # Ending the MLflow experiment run\n",
        "\n",
        "if __name__ == \"__main__\":\n",
        "    main()"
      ]
    },
    {
      "cell_type": "markdown",
      "metadata": {},
      "source": [
        "#### **Define Model Training Job**"
      ]
    },
    {
      "cell_type": "markdown",
      "metadata": {},
      "source": [
        "For this AzureML job, we define the `command` object that takes the paths to the training and testing data, the number of trees in the forest (`n_estimators`), and the maximum depth of the trees (`max_depth`) as inputs, and outputs the trained model. The command runs in a pre-configured AzureML environment with all the necessary libraries. The job produces a trained **Random Forest Regressor model**, which can be used for predicting the price of used cars based on the given attributes."
      ]
    },
    {
      "cell_type": "code",
      "execution_count": 14,
      "metadata": {
        "gather": {
          "logged": 1737786750690
        }
      },
      "outputs": [],
      "source": [
        "from azure.ai.ml import command, Input, Output\n",
        "\n",
        "train_step = command(\n",
        "    name=\"train_price_prediction_model\",  # Specify the name of the command step for model training\n",
        "    display_name=\"________________________\",  # Provide a descriptive display name\n",
        "    description=\"_________________________\",  # Description of the task to be performed\n",
        "    inputs={  # Define inputs required for the training command\n",
        "        \"train_data\": Input(type=\"__________\"),  # Specify input type for train data (e.g., file URI)\n",
        "        \"test_data\": Input(type=\"__________\"),  # Specify input type for test data (e.g., file URI)\n",
        "        \"n_estimators\": Input(type=\"number\", default=____),  # Specify default value for number of estimators (trees in Random Forest)\n",
        "        \"max_depth\": Input(type=\"number\", default=___),  # Set default value for the maximum depth of the trees\n",
        "    },\n",
        "    outputs={  # Define the output of the training job\n",
        "        \"model_output\": Output(type=\"mlflow_model\"),  # Path to save the trained model\n",
        "    },\n",
        "    code=\"________\",  # Fill in the directory where the training script (model_train.py) is located\n",
        "    command=\"\"\"python ________ \n",
        "            --train_data ${{inputs.train_data}} \\ \n",
        "            --test_data ${{inputs.test_data}} \\ \n",
        "            --n_estimators ${{inputs.n_estimators}} \\ \n",
        "            --max_depth ${{inputs.max_depth}} \\ \n",
        "            --model_output ${{outputs.model_output}}\"\"\",\n",
        "    environment=\"AzureML-sklearn-1.0-ubuntu20.04-py38-cpu@latest\",\n",
        "    compute=\"________\",  # Specify the compute target (e.g., \"cpu-cluster\")\n",
        ")\n"
      ]
    },
    {
      "cell_type": "markdown",
      "metadata": {},
      "source": [
        "### **2.3 Registering the Best Trained Model**"
      ]
    },
    {
      "cell_type": "markdown",
      "metadata": {
        "nteract": {
          "transient": {
            "deleting": false
          }
        }
      },
      "source": [
        "The **Model Registration job** is designed to take the best-trained model from the hyperparameter tuning sweep job and register it in MLflow as a versioned artifact for future use in the used car price prediction pipeline. This job script accepts one input: the path to the trained model (model). The script begins by loading the model using the `mlflow.sklearn.load_model()` function. Afterward, it registers the model in the MLflow model registry, assigning it a descriptive name (`used_cars_price_prediction_model`) and specifying an artifact path (`random_forest_price_regressor`) where the model artifacts will be stored. Using MLflow's `log_model()` function, the model is logged along with its metadata, ensuring that the model is easily trackable and retrievable for future evaluation, deployment, or retraining."
      ]
    },
    {
      "cell_type": "code",
      "execution_count": 23,
      "metadata": {
        "gather": {
          "logged": 1737789903990
        }
      },
      "outputs": [],
      "source": [
        "# Create a directory for the preprocessing script\n",
        "import os\n",
        "\n",
        "src_dir_job_scripts = \"./model_register\"\n",
        "os.makedirs(src_dir_job_scripts, exist_ok=True)"
      ]
    },
    {
      "cell_type": "code",
      "execution_count": 24,
      "metadata": {},
      "outputs": [
        {
          "name": "stdout",
          "output_type": "stream",
          "text": [
            "Overwriting ./model_register/model_register.py\n"
          ]
        }
      ],
      "source": [
        "%%writefile {src_dir_job_scripts}/model_register.py\n",
        "\n",
        "import os\n",
        "import argparse\n",
        "import logging\n",
        "import mlflow\n",
        "import pandas as pd\n",
        "from pathlib import Path\n",
        "\n",
        "mlflow.start_run()  # Starting the MLflow experiment run\n",
        "\n",
        "def main():\n",
        "    # Argument parser setup for command line arguments\n",
        "    parser = argparse.ArgumentParser()\n",
        "    parser.add_argument(\"--model\", type=str, help=\"Path to the trained model\")  # Path to the trained model artifact\n",
        "    args = parser.parse_args()\n",
        "\n",
        "    # Load the trained model from the provided path\n",
        "    model = mlflow.sklearn.load_model(args.model)  # _______ (Fill the code to load model from args.model)\n",
        "\n",
        "    print(\"Registering the best trained used cars price prediction model\")\n",
        "    \n",
        "    # Register the model in the MLflow Model Registry under the name \"price_prediction_model\"\n",
        "    mlflow.sklearn.log_model(\n",
        "        sk_model=model,\n",
        "        registered_model_name=\"__________\",  # Specify the name under which the model will be registered\n",
        "        artifact_path=\"__________\"  # Specify the path where the model artifacts will be stored\n",
        "    )\n",
        "\n",
        "    # End the MLflow run\n",
        "    mlflow.end_run()  # ________ (Fill in the code to end the MLflow run)\n",
        "\n",
        "if __name__ == \"__main__\":\n",
        "    main()"
      ]
    },
    {
      "cell_type": "markdown",
      "metadata": {},
      "source": [
        "#### **Define Model Register Job**"
      ]
    },
    {
      "cell_type": "markdown",
      "metadata": {
        "nteract": {
          "transient": {
            "deleting": false
          }
        }
      },
      "source": [
        "For this AzureML job, a `command` object is defined to execute the `model_register.py` script. It accepts the best-trained model as input, runs the script in the `AzureML-sklearn-1.0-ubuntu20.04-py38-cpu` environment, and uses the same compute cluster as the previous jobs (`cpu-cluster`). This job plays a crucial role in the pipeline by ensuring that the best-performing model identified during hyperparameter tuning is systematically stored and made available in the MLflow registry for further evaluation, deployment, or retraining. Integrating this job into the end-to-end pipeline automates the process of registering high-quality models, completing the model development lifecycle and enabling the prediction of used car prices."
      ]
    },
    {
      "cell_type": "code",
      "execution_count": null,
      "metadata": {},
      "outputs": [],
      "source": [
        "from azure.ai.ml import command, Input\n",
        "\n",
        "model_register_component = command(\n",
        "    name=\"register_model\", \n",
        "    display_name=\"_____________\",  # Provide a descriptive display name for the step\n",
        "    description=\"_______________________\",  # Describe the task\n",
        "    inputs={  # Define inputs required for the model registration command\n",
        "        \"model\": Input(type=\"mlflow_model\"), \n",
        "    },\n",
        "    code=\"________\",  # Fill in the directory where the model register script (model_register.py) is located\n",
        "    command=\"\"\"python  model_register.py \\ \n",
        "            --model ${{inputs.model}}\"\"\",\n",
        "    environment=\"AzureML-sklearn-1.0-ubuntu20.04-py38-cpu@latest\",  # Environment configuration for the model register job\n",
        "    compute=\"cpu-cluster\",  # Specify the compute target to be used for the job\n",
        ")\n"
      ]
    },
    {
      "cell_type": "markdown",
      "metadata": {},
      "source": [
        "### **2.4. Assembling the End-to-End Workflow**"
      ]
    },
    {
      "cell_type": "markdown",
      "metadata": {},
      "source": [
        "The end-to-end pipeline integrates all the previously defined jobs into a seamless workflow, automating the process of data preparation, model training, hyperparameter tuning, and model registration. The pipeline is designed using Azure Machine Learning's `@pipeline` decorator, specifying the compute target and providing a detailed description of the workflow."
      ]
    },
    {
      "cell_type": "code",
      "execution_count": null,
      "metadata": {},
      "outputs": [],
      "source": [
        "from azure.ai.ml.sweep import Choice\n",
        "from azure.ai.ml.entities import Model\n",
        "from azure.ai.ml.constants import ModelType\n",
        "from azure.ai.ml.dsl import pipeline\n",
        "\n",
        "# Assemble the pipeline by chaining the jobs\n",
        "@pipeline(\n",
        "    compute=\"cpu-cluster\",  # Compute target for the pipeline\n",
        "    description=\"______________________\",  # Provide a description for the pipeline\n",
        ")\n",
        "def complete_pipeline(input_data_uri, test_train_ratio, n_estimators, max_depth):\n",
        "    \n",
        "    # Step 1: Preprocess the data\n",
        "    preprocess_step = step_process(\n",
        "        data=input_data_uri,  # Input URI for data\n",
        "        test_train_ratio=test_train_ratio,  # Input for the train-test split ratio (e.g., 0.8)\n",
        "    )\n",
        "    \n",
        "    # Step 2: Train the model using preprocessed data\n",
        "    training_step = train_step(\n",
        "        train_data=preprocess_step.outputs.train_data,  # Output from data preprocessing (training data)\n",
        "        test_data=preprocess_step.outputs.test_data,  # Output from data preprocessing (testing data)\n",
        "        n_estimators=n_estimators,  # Input for the number of estimators (e.g., 50)\n",
        "        max_depth=max_depth,  # Input for the maximum depth of trees (e.g., 10)\n",
        "    )\n",
        "    \n",
        "    # Define the training step with hyperparameters for tuning\n",
        "    job_for_sweep = training_step(\n",
        "        n_estimators=Choice(values=[10, 20, 30, 50]),\n",
        "        max_depth=Choice(values=___________________),  # List of possible values for max_depth\n",
        "    )\n",
        "\n",
        "    # Define the sweep job\n",
        "    sweep_job = job_for_sweep.sweep(\n",
        "        compute=\"cpu-cluster\",\n",
        "        sampling_algorithm=\"random\",\n",
        "        primary_metric=\"MSE\",\n",
        "        goal=\"Minimize\",\n",
        "    )\n",
        "\n",
        "    # Set the limits for the sweep job:\n",
        "    # - max_total_trials: The maximum number of hyperparameter combinations to be evaluated (20 in this case).\n",
        "    # - max_concurrent_trials: The maximum number of trials to run simultaneously (10 in this case) to optimize resource utilization.\n",
        "    # - timeout: The maximum allowed duration for the sweep job in seconds (7200 seconds, or 2 hours).\n",
        "    sweep_job.set_limits(max_total_trials=20, max_concurrent_trials=10, timeout=7200)\n",
        "    \n",
        "    # Step 3: Register the best model\n",
        "    # After the sweep job, get the best model\n",
        "    model_register_step = model_register_component(\n",
        "        model=job_for_sweep.outputs.model_output,  # Output from sweep job (best model)\n",
        "    )\n",
        "\n",
        "    # Returning outputs from all steps in the pipeline\n",
        "    return {\n",
        "        \"pipeline_job_train_data\": preprocess_step.outputs.train_data,  # Output from preprocessing step (train data)\n",
        "        \"pipeline_job_test_data\": preprocess_step.outputs.test_data,  # Output from preprocessing step (test data)\n",
        "        \"pipeline_job_best_model\": job_for_sweep.outputs.model_output,  # Output from sweep job (best model)\n",
        "    }\n"
      ]
    },
    {
      "cell_type": "markdown",
      "metadata": {},
      "source": [
        "1. **Data Preparation (Preprocessing Step)**:\n",
        "The pipeline starts by invoking the `step_process` job, which preprocesses the raw input data (`input_data_uri`). This step splits the dataset into training and testing sets based on the provided `test_train_ratio`. The outputs from this step include the processed training and testing datasets (`train_data` and `test_data`), which are passed as inputs to the next step."
      ]
    },
    {
      "cell_type": "markdown",
      "metadata": {
        "nteract": {
          "transient": {
            "deleting": false
          }
        }
      },
      "source": [
        "2. **Model Training**:\n",
        "The second step in the pipeline is the `train_step`, which trains a **Random Forest Regressor model** using the preprocessed training data. The job uses `train_data` and `test_data` from the preprocessing step and accepts hyperparameters like `n_estimators` and `max_depth` to configure the model. The training step is designed to work flexibly with the parameters defined in the pipeline, allowing experimentation. This step evaluates the model's performance using the `Mean Squared Error (MSE)` metric and logs the result in MLflow. The trained model is then saved and stored in the specified output location as an MLflow model."
      ]
    },
    {
      "cell_type": "markdown",
      "metadata": {},
      "source": [
        "3. **Hyperparameter Tuning**:\n",
        "To optimize the model's performance, a Sweep Job is defined based on the training step. The sweep job explores multiple combinations of hyperparameters (`n_estimators` and `max_depth`) using a random sampling algorithm. It aims to minimize the model's `Mean Squared Error (MSE)` to ensure accurate price predictions. The job limits are set to allow a maximum of 20 trials, with up to 10 trials running concurrently, and a total timeout of 7200 seconds (2 hours). This step identifies the best combination of hyperparameters for the model."
      ]
    },
    {
      "cell_type": "markdown",
      "metadata": {},
      "source": [
        "4. **Model Registration**:\n",
        "Once the sweep job completes, the best-performing model is passed to the `model_register_component`. This step registers the model in the MLflow model registry, ensuring that it is versioned and available for deployment or future experimentation. The registered model includes its metadata and is stored with a descriptive name (`used_cars_price_prediction_model`)."
      ]
    },
    {
      "cell_type": "markdown",
      "metadata": {},
      "source": [
        "5. **Pipeline Outputs**:\n",
        "The pipeline returns key outputs for further analysis, including the locations of the training and testing datasets and the best-trained model from the sweep job. These outputs ensure traceability and provide resources for subsequent tasks like evaluation and deployment."
      ]
    },
    {
      "cell_type": "markdown",
      "metadata": {},
      "source": [
        "The pipeline is instantiated by providing the required inputs, such as the data path, test-train ratio, and initial values for hyperparameters (`n_estimators` and `max_depth`). It is then submitted to Azure Machine Learning for execution under the experiment name `price_prediction_pipeline`. Real-time logs can be streamed to monitor the pipeline's progress. Once the pipeline completes, the outputs can be accessed for verification."
      ]
    },
    {
      "cell_type": "code",
      "execution_count": 27,
      "metadata": {
        "gather": {
          "logged": 1737789908278
        }
      },
      "outputs": [],
      "source": [
        "# The code retrieves a specific version of a registered data asset using the ml_client object.\n",
        "data_path = ml_client.data.get(\"____________\", version=\"1\").path # Provide the name of the data asset"
      ]
    },
    {
      "cell_type": "code",
      "execution_count": 28,
      "metadata": {
        "gather": {
          "logged": 1737789909418
        }
      },
      "outputs": [],
      "source": [
        "# Create pipeline instance\n",
        "pipeline_instance = complete_pipeline(\n",
        "    input_data_uri=Input(type=\"uri_file\", path=data_path),  # Dataset path\n",
        "    test_train_ratio=0.2,  # Test-train ratio\n",
        "    n_estimators=50,       # Initial value for n_estimators\n",
        "    max_depth=5             # Initial value for max depth\n",
        ")"
      ]
    },
    {
      "cell_type": "code",
      "execution_count": null,
      "metadata": {
        "gather": {
          "logged": 1737790263713
        }
      },
      "outputs": [],
      "source": [
        "# Submit the pipeline to Azure ML\n",
        "pipeline_job = ml_client.jobs.create_or_update(\n",
        "    pipeline_instance, \n",
        "    experiment_name=\"_________________________\" # Provide the experiment name\n",
        ")\n",
        "\n",
        "# Stream the output of the job for real-time logs\n",
        "ml_client.jobs.stream(pipeline_job.name)"
      ]
    },
    {
      "cell_type": "code",
      "execution_count": null,
      "metadata": {
        "gather": {
          "logged": 1737790263802
        }
      },
      "outputs": [],
      "source": [
        "# Access pipeline outputs (optional, after job completion)\n",
        "print(f\"Train data location: {pipeline_job.outputs['pipeline_job_train_data']}\")\n",
        "print(f\"Test data location: {pipeline_job.outputs['pipeline_job_test_data']}\")\n",
        "print(f\"Best model location: {pipeline_job.outputs['pipeline_job_best_model']}\")"
      ]
    }
  ],
  "metadata": {
    "kernel_info": {
      "name": "python310-sdkv2"
    },
    "kernelspec": {
      "display_name": "Python 3",
      "language": "python",
      "name": "python3"
    },
    "language_info": {
      "codemirror_mode": {
        "name": "ipython",
        "version": 3
      },
      "file_extension": ".py",
      "mimetype": "text/x-python",
      "name": "python",
      "nbconvert_exporter": "python",
      "pygments_lexer": "ipython3",
      "version": "3.13.3"
    },
    "microsoft": {
      "host": {
        "AzureML": {
          "notebookHasBeenCompleted": true
        }
      },
      "ms_spell_check": {
        "ms_spell_check_language": "en"
      }
    },
    "nteract": {
      "version": "nteract-front-end@1.0.0"
    }
  },
  "nbformat": 4,
  "nbformat_minor": 2
}
